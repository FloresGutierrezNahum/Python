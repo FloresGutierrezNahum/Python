{
 "cells": [
  {
   "cell_type": "markdown",
   "metadata": {},
   "source": [
    "## Ejercicio 1:\n",
    "\n",
    "Escribir un programa que guarde en una variable el diccionario `{'Euro':'€', 'Dollar':'$', 'Yen':'¥'}`, pregunte al usuario por una divisa y muestre su símbolo o un mensaje de aviso si la divisa no está en el diccionario."
   ]
  },
  {
   "cell_type": "code",
   "execution_count": 1,
   "metadata": {},
   "outputs": [
    {
     "name": "stdout",
     "output_type": "stream",
     "text": [
      "Introduce una divisa: Euro\n",
      "€\n"
     ]
    }
   ],
   "source": [
    "currencies = {'Euro':'€', 'Dollar':'$', 'Yen':'¥'}\n",
    "currency = input(\"Introduce una divisa: \")\n",
    "\n",
    "print(currencies.get(currency.title(), \"La divisa no está.\"))"
   ]
  },
  {
   "cell_type": "markdown",
   "metadata": {},
   "source": [
    "## Ejercicio 2:\n",
    "\n",
    "Escribir un programa que pregunte al usuario su nombre, edad, dirección y teléfono y lo guarde en un diccionario. Despúes debe mostrar por pantalla el mensaje `<nombre> tiene <edad> años, vive en <dirección> y su número de teléfono es <teléfono>`. "
   ]
  },
  {
   "cell_type": "code",
   "execution_count": 3,
   "metadata": {},
   "outputs": [
    {
     "name": "stdout",
     "output_type": "stream",
     "text": [
      "¿Cómo te llamas? Nahum\n",
      "¿Cuántos años tienes? 23\n",
      "¿Cuál es tu dirección? Av. España 160\n",
      "¿Cuál es tu número de teléfono? 994836288\n",
      "Nahum tiene 23 años, vive en Av. España 160 y su número de teléfono es 994836288\n"
     ]
    }
   ],
   "source": [
    "name = input('¿Cómo te llamas? ')\n",
    "age = input('¿Cuántos años tienes? ')\n",
    "address = input('¿Cuál es tu dirección? ')\n",
    "phone = input('¿Cuál es tu número de teléfono? ')\n",
    "\n",
    "person = {'name': name, 'age': age, 'address': address, 'phone': phone}\n",
    "\n",
    "print(person['name'], 'tiene', person['age'], 'años, vive en', person['address'], 'y su número de teléfono es', person['phone'])"
   ]
  },
  {
   "cell_type": "markdown",
   "metadata": {},
   "source": [
    "## Ejercicio 3:\n",
    "\n",
    "Escribir un programa que guarde en un diccionario los precios de las frutas de la tabla, pregunte al usuario por una fruta, un número de kilos y muestre por pantalla el precio de ese número de kilos de fruta. Si la fruta no está en el diccionario debe mostrar un mensaje informando de ello.\n",
    "\n",
    "| Fruta | Precio|\n",
    "|:-|:-:|\n",
    "|Plátano | 1.35 |\n",
    "|Manzana | 0.80|\n",
    "|Pera| 0.85|\n",
    "|Naranja | 0.70|"
   ]
  },
  {
   "cell_type": "code",
   "execution_count": 4,
   "metadata": {},
   "outputs": [
    {
     "name": "stdout",
     "output_type": "stream",
     "text": [
      "¿Qué fruta quieres? 10\n",
      "¿Cuántos kilos? 10\n",
      "Lo siento, la fruta 10 no está disponible.\n"
     ]
    }
   ],
   "source": [
    "fruits = {'Plátano':1.35, 'Manzana':0.8, 'Pera':0.85, 'Naranja':0.7}\n",
    "fruit = input('¿Qué fruta quieres? ').title()\n",
    "\n",
    "kg = float(input('¿Cuántos kilos? '))\n",
    "\n",
    "if fruit in fruits:\n",
    "    print(kg, 'kilos de', fruit, 'valen', fruits[fruit]*kg )\n",
    "else: \n",
    "    print(\"Lo siento, la fruta\", fruit, \"no está disponible.\")"
   ]
  },
  {
   "cell_type": "markdown",
   "metadata": {},
   "source": [
    "## Ejercicio 4:\n",
    "\n",
    "Escribir un programa que pregunte una fecha en formato `dd/mm/aaaa` y muestre por pantalla la misma fecha en formato `dd de <mes> de aaaa` donde `<mes>` es el nombre del mes."
   ]
  },
  {
   "cell_type": "code",
   "execution_count": 5,
   "metadata": {},
   "outputs": [
    {
     "name": "stdout",
     "output_type": "stream",
     "text": [
      "Introduce una fecha en formato dd/mm/aaaa: 25/07/1996\n",
      "25 de julio de 1996\n"
     ]
    }
   ],
   "source": [
    "months = {1:'enero', 2:'febrero', 3:'marzo', 4:'abril', 5:'mayo', 6:'junio', 7:'julio', 8:'agosto', 9:'septiembre', 10:'octubre', 11:'noviembre', 12:'diciembre'}\n",
    "\n",
    "date = input('Introduce una fecha en formato dd/mm/aaaa: ')\n",
    "date = date.split('/')\n",
    "\n",
    "print(date[0], 'de', months[int(date[1])], 'de', date[2])"
   ]
  },
  {
   "cell_type": "markdown",
   "metadata": {},
   "source": [
    "## Ejercicio 5:\n",
    "\n",
    "Escribir un programa que almacene el diccionario con los créditos de las asignaturas de un curso `{'Matemáticas': 6, 'Física': 4, 'Química': 5}` y después muestre por pantalla los créditos de cada asignatura en el formato `<asignatura> tiene <créditos> créditos`, donde `<asignatura>` es cada una de las asignaturas del curso, y `<créditos>` son sus créditos. Al final debe mostrar también el número total de créditos del curso."
   ]
  },
  {
   "cell_type": "code",
   "execution_count": 8,
   "metadata": {},
   "outputs": [
    {
     "name": "stdout",
     "output_type": "stream",
     "text": [
      "Matemáticas tiene 6 créditos\n",
      "Física tiene 4 créditos\n",
      "Química tiene 5 créditos\n",
      "Número total de créditos del curso:  15\n",
      "\n",
      "\n",
      "Matemáticas tiene 6 créditos\n",
      "Física tiene 4 créditos\n",
      "Química tiene 5 créditos\n",
      "Número total de créditos del curso:  15\n"
     ]
    }
   ],
   "source": [
    "course = {'Matemáticas': 6, 'Física': 4, 'Química': 5}\n",
    "total_credits = 0\n",
    "\n",
    "for subject, credits in course.items():\n",
    "    print(subject, 'tiene', credits, 'créditos')\n",
    "    total_credits += credits\n",
    "    \n",
    "print('Número total de créditos del curso: ', total_credits)\n",
    "print('\\n')\n",
    "\n",
    "total_creditos = 0\n",
    "for a, b in course.items():\n",
    "    print(a, 'tiene', b, 'créditos')\n",
    "    total_creditos += b\n",
    "    \n",
    "print('Número total de créditos del curso: ', total_creditos)"
   ]
  },
  {
   "cell_type": "markdown",
   "metadata": {},
   "source": [
    "## Ejercicio 6:\n",
    "\n",
    "Escribir un programa que cree un diccionario vacío y lo vaya llenado con información sobre una persona (por ejemplo nombre, edad, sexo, teléfono, correo electrónico, etc.) que se le pida al usuario. Cada vez que se añada un nuevo dato debe imprimirse el contenido del diccionario."
   ]
  },
  {
   "cell_type": "code",
   "execution_count": 10,
   "metadata": {},
   "outputs": [
    {
     "name": "stdout",
     "output_type": "stream",
     "text": [
      "¿Qué dato quieres introducir? Nombre\n",
      "Nombre: Nahum\n",
      "{'Nombre': 'Nahum'}\n",
      "¿Quieres añadir más información (Si/No)? Si\n",
      "¿Qué dato quieres introducir? Apellido Paterno\n",
      "Apellido Paterno: Flores\n",
      "{'Nombre': 'Nahum', 'Apellido Paterno': 'Flores'}\n",
      "¿Quieres añadir más información (Si/No)? Si\n",
      "¿Qué dato quieres introducir? Apellido Materno\n",
      "Apellido Materno: Gutierrez\n",
      "{'Nombre': 'Nahum', 'Apellido Paterno': 'Flores', 'Apellido Materno': 'Gutierrez'}\n",
      "¿Quieres añadir más información (Si/No)? no\n"
     ]
    }
   ],
   "source": [
    "person = {}\n",
    "more = 'Si'\n",
    "\n",
    "while more=='Si':\n",
    "    key = input('¿Qué dato quieres introducir? ')\n",
    "    value = input(key + ': ')\n",
    "    person[key] = value\n",
    "    \n",
    "    print(person)\n",
    "    more = input('¿Quieres añadir más información (Si/No)? ')"
   ]
  },
  {
   "cell_type": "markdown",
   "metadata": {},
   "source": [
    "## Ejercicio 7:\n",
    "\n",
    "Escribir un programa que cree un diccionario simulando una cesta de la compra. El programa debe preguntar el artículo y su precio y añadir el par al diccionario, hasta que el usuario decida terminar. Después se debe mostrar por pantalla la lista de la compra y el coste total, con el siguiente formato\n",
    "\n",
    "|Lista de la compra| |\n",
    "|:-|-:|\n",
    "|Artículo 1 | Precio|\n",
    "|Artículo 2 | Precio|\n",
    "|Artículo 3 | Precio|\n",
    "|...| ...|\n",
    "|Total| Coste|"
   ]
  },
  {
   "cell_type": "code",
   "execution_count": 11,
   "metadata": {},
   "outputs": [
    {
     "name": "stdout",
     "output_type": "stream",
     "text": [
      "Introduce un artículo: Ordenador\n",
      "Introduce el precio de Ordenador: 450\n",
      "¿Quieres añadir artículos a la lista (Si/No)? no\n",
      "Lista de la compra\n",
      "Ordenador \t 450.0\n",
      "Coste total:  450.0\n"
     ]
    }
   ],
   "source": [
    "basket = {}\n",
    "more = 'Si'\n",
    "\n",
    "while more == 'Si':\n",
    "    item = input('Introduce un artículo: ')\n",
    "    price = float(input('Introduce el precio de ' + item + ': '))\n",
    "    basket[item] = price\n",
    "    more = input('¿Quieres añadir artículos a la lista (Si/No)? ')\n",
    "\n",
    "cost = 0\n",
    "print('Lista de la compra')\n",
    "for item, price in basket.items():\n",
    "    print(item, '\\t', price)\n",
    "    cost += price\n",
    "print('Coste total: ', cost)"
   ]
  },
  {
   "cell_type": "markdown",
   "metadata": {},
   "source": [
    "## Ejercicio 8:\n",
    "\n",
    "Escribir un programa que cree un diccionario de traducción español-inglés. El usuario introducirá las palabras en español e inglés separadas por dos puntos, y cada par `<palabra>:<traducción>` separados por comas. El programa debe crear un diccionario con las palabras y sus traducciones. Después pedirá una frase en español y utilizará el diccionario para traducirla palabra a palabra. Si una palabra no está en el diccionario debe dejarla sin traducir."
   ]
  },
  {
   "cell_type": "code",
   "execution_count": 12,
   "metadata": {},
   "outputs": [
    {
     "name": "stdout",
     "output_type": "stream",
     "text": [
      "Introduce la lista de palabras y traducciones en formato palabra:traducción separadas por comas: casa:house,grande:big,perro:dog\n",
      "Introduce una frase en español: la casa es grande\n",
      "la house es big "
     ]
    }
   ],
   "source": [
    "dictionary = {}\n",
    "words = input(\"Introduce la lista de palabras y traducciones en formato palabra:traducción separadas por comas: \")\n",
    "\n",
    "for i in words.split(','):\n",
    "    key, value = i.split(':')\n",
    "    dictionary[key] = value\n",
    "\n",
    "phrase = input('Introduce una frase en español: ')\n",
    "\n",
    "for i in phrase.split():\n",
    "    if i in dictionary:\n",
    "        print(dictionary[i], end=' ')\n",
    "    else:\n",
    "        print(i, end=' ')"
   ]
  },
  {
   "cell_type": "markdown",
   "metadata": {},
   "source": [
    "## Ejercicio 9:\n",
    "\n",
    "Escribir un programa que gestione las facturas pendientes de cobro de una empresa. Las facturas se almacenarán en un diccionario donde la clave de cada factura será el número de factura y el valor el coste de la factura. El programa debe preguntar al usuario si quiere añadir una nueva factura, pagar una existente o terminar. Si desea añadir una nueva factura se preguntará por el número de factura y su coste y se añadirá al diccionario. Si se desea pagar una factura se preguntará por el número de factura y se eliminará del diccionario. Después de cada operación el programa debe mostrar por pantalla la cantidad cobrada hasta el momento y la cantidad pendiente de cobro. "
   ]
  },
  {
   "cell_type": "code",
   "execution_count": 14,
   "metadata": {},
   "outputs": [
    {
     "name": "stdout",
     "output_type": "stream",
     "text": [
      "Recaudado: 0\n",
      "Pendiente de cobro:  0\n",
      "¿Quieres añadir una nueva factura (A), pagarla (P) o terminar (T)? a\n",
      "Recaudado: 0\n",
      "Pendiente de cobro:  0\n",
      "¿Quieres añadir una nueva factura (A), pagarla (P) o terminar (T)? 1\n",
      "Recaudado: 0\n",
      "Pendiente de cobro:  0\n",
      "¿Quieres añadir una nueva factura (A), pagarla (P) o terminar (T)? 150\n",
      "Recaudado: 0\n",
      "Pendiente de cobro:  0\n",
      "¿Quieres añadir una nueva factura (A), pagarla (P) o terminar (T)? 150\n",
      "Recaudado: 0\n",
      "Pendiente de cobro:  0\n",
      "¿Quieres añadir una nueva factura (A), pagarla (P) o terminar (T)? 151\n",
      "Recaudado: 0\n",
      "Pendiente de cobro:  0\n",
      "¿Quieres añadir una nueva factura (A), pagarla (P) o terminar (T)? T\n"
     ]
    }
   ],
   "source": [
    "invoices = {}\n",
    "collected = 0\n",
    "remains = 0\n",
    "more = ''\n",
    "\n",
    "while more != 'T':\n",
    "    if more == 'A':\n",
    "        key = input('Introduce el número de la factura: ')\n",
    "        cost = float(input('Introduce el coste de la factura: '))\n",
    "        invoices[key] = cost\n",
    "        remains += cost\n",
    "    if more == 'P':\n",
    "        key = input('Introduce el número de la factura a pagar: ')\n",
    "        cost = invoices.pop(key, 0)\n",
    "        collected += cost\n",
    "        remains -= cost\n",
    "    print('Recaudado:', collected)\n",
    "    print('Pendiente de cobro: ', remains)\n",
    "    more = input('¿Quieres añadir una nueva factura (A), pagarla (P) o terminar (T)? ')"
   ]
  },
  {
   "cell_type": "markdown",
   "metadata": {},
   "source": [
    "## Ejercicio 10:\n",
    "\n",
    "Escribir un programa que permita gestionar la base de datos de clientes de una empresa. Los clientes se guardarán en un diccionario en el que la clave de cada cliente será su NIF, y el valor será otro diccionario con los datos del cliente (nombre, dirección, teléfono, correo, preferente), donde preferente tendrá el valor `True` si se trata de un cliente preferente. El programa debe preguntar al usuario por una opción del siguiente menú: (1) Añadir cliente, (2) Eliminar cliente, (3) Mostrar cliente, (4) Listar todos los clientes, (5) Listar clientes preferentes, (6) Terminar. En función de la opción elegida el programa tendrá que hacer lo siguiente:\n",
    "\n",
    "1. Preguntar los datos del cliente, crear un diccionario con los datos y añadirlo a la base de datos.\n",
    "2. Preguntar por el NIF del cliente y eliminar sus datos de la base de datos.\n",
    "3. Preguntar por el NIF del cliente y mostrar sus datos.\n",
    "4. Mostrar lista de todos los clientes de la base datos con su NIF y nombre.\n",
    "5. Mostrar la lista de clientes preferentes de la base de datos con su NIF y nombre.\n",
    "6. Terminar el programa."
   ]
  },
  {
   "cell_type": "code",
   "execution_count": 15,
   "metadata": {},
   "outputs": [
    {
     "name": "stdout",
     "output_type": "stream",
     "text": [
      "Menú de opciones\n",
      "(1) Añadir cliente\n",
      "(2) Eliminar cliente\n",
      "(3) Mostrar cliente\n",
      "(4) Listar clientes\n",
      "(5) Listar clientes preferentes\n",
      "(6) Terminar\n",
      "Elige una opción:6\n"
     ]
    }
   ],
   "source": [
    "clients = {}\n",
    "option = ''\n",
    "while option != '6':\n",
    "    if option == '1':\n",
    "        nif = input('Introduce NIF del cliente: ')\n",
    "        name = input('Introduce el nombre del cliente: ')\n",
    "        address = input('Introduce la dirección del cliente: ')\n",
    "        phone = input('Introduce el teléfono del cliente: ')\n",
    "        email = input('Introduce el correo electrónico del cliente: ')\n",
    "        vip = input('¿Es un cliente preferente (S/N)? ')\n",
    "        client = {'nombre':name, 'dirección':address, 'teléfono':phone, 'email':email, 'preferente':vip=='S'}\n",
    "        clients[nif] = client\n",
    "    if option == '2':\n",
    "        nif = input('Introduce NIF del cliente: ')\n",
    "        if nif in clients:\n",
    "            del clients[nif]\n",
    "        else:\n",
    "            print('No existe el cliente con el nif', nif)\n",
    "    if option == '3':\n",
    "        nif = input('Introduce NIF del cliente: ')\n",
    "        if nif in clients:\n",
    "            print('NIF:', nif)\n",
    "            for key, value in clients[nif].items():\n",
    "                print(key.title() + ':', value)\n",
    "        else:\n",
    "            print('No existe el cliente con el nif', nif)\n",
    "    if option == '4':\n",
    "        print('Lista de clientes')\n",
    "        for key, value in clients.items():\n",
    "            print(key, value['nombre'])\n",
    "    if option == '5':\n",
    "        print('Lista de clientes preferentes')\n",
    "        for key, value in clients.items():\n",
    "            if value['preferente']:\n",
    "                print(key, value['nombre'])\n",
    "    option = input('Menú de opciones\\n(1) Añadir cliente\\n(2) Eliminar cliente\\n(3) Mostrar cliente\\n(4) Listar clientes\\n(5) Listar clientes preferentes\\n(6) Terminar\\nElige una opción:')\n"
   ]
  },
  {
   "cell_type": "code",
   "execution_count": null,
   "metadata": {},
   "outputs": [],
   "source": []
  }
 ],
 "metadata": {
  "kernelspec": {
   "display_name": "Python 3",
   "language": "python",
   "name": "python3"
  },
  "language_info": {
   "codemirror_mode": {
    "name": "ipython",
    "version": 3
   },
   "file_extension": ".py",
   "mimetype": "text/x-python",
   "name": "python",
   "nbconvert_exporter": "python",
   "pygments_lexer": "ipython3",
   "version": "3.7.6"
  }
 },
 "nbformat": 4,
 "nbformat_minor": 4
}
