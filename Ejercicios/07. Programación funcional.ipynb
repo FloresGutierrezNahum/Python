{
 "cells": [
  {
   "cell_type": "markdown",
   "metadata": {},
   "source": [
    "## Ejercicio 2:\n",
    "\n",
    "Escribir una función que simule una calculadora científica que permita calcular el seno, coseno, tangente, exponencial y logaritmo neperiano. La función preguntará al usuario el valor y la función a aplicar, y mostrará por pantalla una tabla con los enteros de 1 al valor introducido y el resultado de aplicar la función a esos enteros."
   ]
  },
  {
   "cell_type": "code",
   "execution_count": 5,
   "metadata": {},
   "outputs": [
    {
     "name": "stdout",
     "output_type": "stream",
     "text": [
      "Introduce la función a aplicar (sin, cos, tan, exp, log): sin\n",
      "Introduce un entero positivo: 20\n",
      "1 \t 0.8414709848078965\n",
      "2 \t 0.9092974268256817\n",
      "3 \t 0.1411200080598672\n",
      "4 \t -0.7568024953079282\n",
      "5 \t -0.9589242746631385\n",
      "6 \t -0.27941549819892586\n",
      "7 \t 0.6569865987187891\n",
      "8 \t 0.9893582466233818\n",
      "9 \t 0.4121184852417566\n",
      "10 \t -0.5440211108893698\n",
      "11 \t -0.9999902065507035\n",
      "12 \t -0.5365729180004349\n",
      "13 \t 0.4201670368266409\n",
      "14 \t 0.9906073556948704\n",
      "15 \t 0.6502878401571168\n",
      "16 \t -0.2879033166650653\n",
      "17 \t -0.9613974918795568\n",
      "18 \t -0.7509872467716762\n",
      "19 \t 0.14987720966295234\n",
      "20 \t 0.9129452507276277\n"
     ]
    }
   ],
   "source": [
    "from math import sin, cos, tan, exp, log\n",
    "\n",
    "def apply_function(f, n):\n",
    "    '''\n",
    "    Función que aplica una función a los enteros desde 1 hasta n.\n",
    "    Parámetros:\n",
    "        f: Es una función que recibe un número real y devuelve otro.\n",
    "        n: Es un número entero positivo.\n",
    "    Devuelve:\n",
    "        Un diccionario con los pares i:f(i) para cada valor entero i de 1 a n.\n",
    "    '''\n",
    "    functions = {'sin':sin, 'cos':cos, 'tan':tan, 'exp':exp, 'log':log}\n",
    "    result = {}\n",
    "    \n",
    "    for i in range(1, n+1):\n",
    "        result[i] = functions[f](i)\n",
    "    return result\n",
    "\n",
    "def calculator():\n",
    "    '''\n",
    "    Función que aplica una función seleccionada por el usuario (seno, coseno, tangente, exponencial o logarítmo) a la lista de enteros desde 1 hasta n. \n",
    "    Imprime por pantalla una tabla con la secuencia de enteros y el resultado de aplicarles la función introducida.\n",
    "    Parámetros:\n",
    "        f: Es una cadena con la función a aplicar (sin, cos, tan, exp o log).\n",
    "        n: Es un entero positivo.\n",
    "    '''\n",
    "    f = input('Introduce la función a aplicar (sin, cos, tan, exp, log): ')\n",
    "    n = int(input('Introduce un entero positivo: '))\n",
    "    \n",
    "    for i, j in apply_function(f, n).items():\n",
    "        print (i, '\\t', j)\n",
    "    return\n",
    "\n",
    "calculator()"
   ]
  },
  {
   "cell_type": "markdown",
   "metadata": {},
   "source": [
    "## Ejercicio 3:\n",
    "\n",
    "Escribir una función que reciba otra función y una lista, y devuelva otra lista con el resultado de aplicar la función dada a cada uno de los elementos de la lista."
   ]
  },
  {
   "cell_type": "code",
   "execution_count": 6,
   "metadata": {},
   "outputs": [
    {
     "name": "stdout",
     "output_type": "stream",
     "text": [
      "[1, 4, 9, 16]\n"
     ]
    }
   ],
   "source": [
    "def aplica_funcion_lista(funcion, lista):\n",
    "    '''Función que aplica una función a todos los elementos de una lista.\n",
    "\n",
    "    Parámetros:\n",
    "        funcion: Es una función.\n",
    "        lista: Es una lista con valores que se pasarán como argumentos a funcion.\n",
    "    Devuelve:\n",
    "        Una lista con el resultado de aplicar la función a los valores de la lista.\n",
    "    '''\n",
    "    l = []\n",
    "    for i in lista:\n",
    "        l.append(funcion(i))\n",
    "    return l\n",
    "\n",
    "def cuadrado(n):\n",
    "    return n * n\n",
    "\n",
    "print(aplica_funcion_lista(cuadrado, [1, 2, 3, 4]))"
   ]
  },
  {
   "cell_type": "markdown",
   "metadata": {},
   "source": [
    "## Ejercicio 4:\n",
    "\n",
    "Escribir una función que reciba otra función booleana y una lista, y devuelva otra lista con los elementos de la lista que devuelvan `True` al aplicarles la función booleana. "
   ]
  },
  {
   "cell_type": "code",
   "execution_count": 7,
   "metadata": {},
   "outputs": [
    {
     "name": "stdout",
     "output_type": "stream",
     "text": [
      "[2, 4, 6]\n"
     ]
    }
   ],
   "source": [
    "def filtra_lista(funcion, lista):\n",
    "    '''Función que filtra los elementos de una lista que devuelven true al aplicarle una función booleana.\n",
    "\n",
    "    Parámetros:\n",
    "        - funcion: Es una función booleana (devuleve true o false)\n",
    "        - lista: Es una lista con valores que se pasarán como argumentos a funcion.\n",
    "    Devuelve:\n",
    "        Una lista con los elementos de la lista que devuelven true al aplicarles la función booleana.\n",
    "    '''\n",
    "    l = []\n",
    "    for i in lista:\n",
    "        if funcion(i):\n",
    "            l.append(i)\n",
    "    return l\n",
    "\n",
    "def par(n):\n",
    "    return n % 2 == 0\n",
    "\n",
    "print(filtra_lista(par, [1, 2, 3, 4, 5, 6]))"
   ]
  },
  {
   "cell_type": "markdown",
   "metadata": {},
   "source": [
    "## Ejercicio 5:\n",
    "\n",
    "Escribir una función que reciba una frase y devuelva un diccionario con las palabras que contiene y su longitud. "
   ]
  },
  {
   "cell_type": "code",
   "execution_count": 8,
   "metadata": {},
   "outputs": [
    {
     "name": "stdout",
     "output_type": "stream",
     "text": [
      "{'Welcome': 7, 'to': 2, 'Python': 6}\n"
     ]
    }
   ],
   "source": [
    "def length_words(sentence):\n",
    "    '''\n",
    "    Función que recibe una frase y devuelve un diccionario con las palabras que contiene y su longitud.\n",
    "    Parámetros:\n",
    "        sentence: Es una cadena de caracteres con una frase.\n",
    "    Devuelve:\n",
    "        Un diccionario con pares palabra:longitud donde palabra son las palabras que contiene la frase sentence.\n",
    "    '''\n",
    "    words = sentence.split()\n",
    "    lengths = map(len, words)\n",
    "    return dict(zip(words, lengths))\n",
    "\n",
    "print(length_words('Welcome to Python'))"
   ]
  },
  {
   "cell_type": "code",
   "execution_count": 9,
   "metadata": {},
   "outputs": [
    {
     "name": "stdout",
     "output_type": "stream",
     "text": [
      "{'Welcome': 7, 'to': 2, 'Python': 6}\n"
     ]
    }
   ],
   "source": [
    "def length_words(sentence):\n",
    "    '''\n",
    "    Función que recibe una frase y devuelve un diccionario con las palabras que contiene y su longitud.\n",
    "    Parámetros:\n",
    "        sentence: Es una cadena de caracteres con una frase.\n",
    "    Devuelve:\n",
    "        Un diccionario con pares palabra:longitud donde palabra son las palabras que contiene la frase sentence.\n",
    "    '''\n",
    "    return {word:len(word) for word in sentence.split()}\n",
    "\n",
    "print(length_words('Welcome to Python'))"
   ]
  },
  {
   "cell_type": "markdown",
   "metadata": {},
   "source": [
    "## Ejercicio 9:\n",
    "\n",
    "Escribir una función que calcule el módulo de un vector."
   ]
  },
  {
   "cell_type": "code",
   "execution_count": 10,
   "metadata": {},
   "outputs": [
    {
     "name": "stdout",
     "output_type": "stream",
     "text": [
      "5.0\n",
      "3.7416573867739413\n"
     ]
    }
   ],
   "source": [
    "def sum_square(x, y):\n",
    "    '''\n",
    "    Función que recibe dos valores y calcula la suma del primero más el cuadrado del segundo.\n",
    "    Parámetros:\n",
    "        x: Es un número real.\n",
    "        y: Es un número real.\n",
    "    Devuelve:\n",
    "        x + y²\n",
    "    '''\n",
    "    return x + y ** 2\n",
    "\n",
    "def module(v):\n",
    "    '''\n",
    "    Función que calcula el módulo de un vector.\n",
    "    Parámetros:\n",
    "        v: Una tupla de números reales.\n",
    "    Devuelve:\n",
    "        El módulo del vector v.\n",
    "    '''\n",
    "    from functools import reduce\n",
    "    return reduce(sum_square, v, 0) ** 0.5\n",
    "\n",
    "print(module((3, 4)))\n",
    "print(module((1, 2, 3)))"
   ]
  },
  {
   "cell_type": "code",
   "execution_count": 11,
   "metadata": {},
   "outputs": [
    {
     "name": "stdout",
     "output_type": "stream",
     "text": [
      "5.0\n",
      "3.7416573867739413\n"
     ]
    }
   ],
   "source": [
    "def module(v):\n",
    "    '''\n",
    "    Función que calcula el módulo de un vector.\n",
    "    Parámetros:\n",
    "        v: Una tupla de números reales.\n",
    "    Devuelve:\n",
    "        El módulo del vector v.\n",
    "    '''\n",
    "    return sum([x ** 2 for x in v]) ** 0.5\n",
    "\n",
    "print(module((3, 4)))\n",
    "print(module((1, 2, 3)))"
   ]
  },
  {
   "cell_type": "markdown",
   "metadata": {},
   "source": [
    "## Ejercicio 10:\n",
    "\n",
    "Una inmobiliaria de una ciudad maneja una lista de inmuebles como la siguiente:\n",
    "\n",
    "`[{'año': 2000, 'metros': 100, 'habitaciones': 3, 'garaje': True, 'zona': 'A'},\n",
    "{'año': 2012, 'metros': 60, 'habitaciones': 2, 'garaje': True, 'zona': 'B'},\n",
    "{'año': 1980, 'metros': 120, 'habitaciones': 4, 'garaje': False, 'zona': 'A'},\n",
    "{'año': 2005, 'metros': 75, 'habitaciones': 3, 'garaje': True, 'zona': 'B'},\n",
    "{'año': 2015, 'metros': 90, 'habitaciones': 2, 'garaje': False, 'zona': 'A'}]`\n",
    "\n",
    "Construir una función que permita hacer búsqueda de inmuebles en función de un presupuesto dado. La función recibirá como entrada la lista de inmuebles y un precio, y devolverá otra lista con los inmuebles cuyo precio sea menor o igual que el dado. Los inmuebles de la lista que se devuelva deben incorporar un nuevo par a cada diccionario con el precio del inmueble, donde el precio de un inmueble se calcula con las siguiente fórmula en función de la zona:\n",
    "\n",
    "- Zona A: precio = (metros x 1000 + habitaciones x 5000 + garaje x 15000) x (1 - antiguedad / 100)\n",
    "- Zona B: precio = (metros x 1000 + habitaciones x 5000 + garaje x 15000) x (1 - antiguedad / 100) x 1.5"
   ]
  },
  {
   "cell_type": "code",
   "execution_count": 12,
   "metadata": {},
   "outputs": [
    {
     "name": "stdout",
     "output_type": "stream",
     "text": [
      "[{'año': 1980, 'metros': 120, 'habitaciones': 4, 'garaje': False, 'zona': 'A', 'precio': 84000.0}, {'año': 2015, 'metros': 90, 'habitaciones': 2, 'garaje': False, 'zona': 'A', 'precio': 95000.0}]\n"
     ]
    }
   ],
   "source": [
    "pisos = [{'año': 2000, 'metros': 100, 'habitaciones': 3, 'garaje': True, 'zona': 'A'}, {'año': 2012, 'metros': 60, 'habitaciones': 2, 'garaje': True, 'zona': 'B'}, {'año': 1980, 'metros': 120, 'habitaciones': 4, 'garaje': False, 'zona': 'A'}, {'año': 2005, 'metros': 75, 'habitaciones': 3, 'garaje': True, 'zona': 'B'}, {'año': 2015, 'metros': 90, 'habitaciones': 2, 'garaje': False, 'zona': 'A'}]\n",
    "\n",
    "def añadir_precio(piso):\n",
    "    precio = (piso['metros'] * 1000 + piso['habitaciones'] * 5000 + int(piso['garaje']) * 15000) * (1 - (2020 - piso['año']) / 100)\n",
    "    if piso['zona'] == 'B':\n",
    "        precio *= 1.5\n",
    "    piso['precio'] = precio\n",
    "    return piso\n",
    "\n",
    "def busca_piso(pisos, presupuesto):\n",
    "    def filtro(piso):\n",
    "        return piso['precio'] <= presupuesto\n",
    "\n",
    "    return list(filter(filtro,map(añadir_precio, pisos)))\n",
    "\n",
    "print(busca_piso(pisos, 100000))"
   ]
  },
  {
   "cell_type": "markdown",
   "metadata": {},
   "source": [
    "## Ejercicio 11:\n",
    "\n",
    "Escribir una función que reciba una muestra de números y devuelva los valores atípicos, es decir, los valores cuya puntuación típica sea mayor que 3 o menor que -3.  \n",
    "Nota: La puntuación típica de un valor se obtiene restando la media y dividiendo por la desviación típica de la muestra."
   ]
  },
  {
   "cell_type": "code",
   "execution_count": 13,
   "metadata": {},
   "outputs": [
    {
     "name": "stdout",
     "output_type": "stream",
     "text": [
      "[1000]\n"
     ]
    }
   ],
   "source": [
    "from statistics import mean, stdev\n",
    "\n",
    "def atipico(muestra):\n",
    "    media = mean(muestra)\n",
    "    desviacion = stdev(muestra)\n",
    "    def f(n):\n",
    "        puntuacion = (n - media) / desviacion\n",
    "        return (puntuacion < -3) or (puntuacion > 3)\n",
    "    return f\n",
    "\n",
    "def datos_atipicos(muestra):\n",
    "    return list(filter(atipico(muestra), muestra))\n",
    "\n",
    "print(datos_atipicos([1, 2, 3, 4, 5, 6, 7, 8, 9, 10, 1000]))"
   ]
  },
  {
   "cell_type": "code",
   "execution_count": null,
   "metadata": {},
   "outputs": [],
   "source": []
  }
 ],
 "metadata": {
  "kernelspec": {
   "display_name": "Python 3",
   "language": "python",
   "name": "python3"
  },
  "language_info": {
   "codemirror_mode": {
    "name": "ipython",
    "version": 3
   },
   "file_extension": ".py",
   "mimetype": "text/x-python",
   "name": "python",
   "nbconvert_exporter": "python",
   "pygments_lexer": "ipython3",
   "version": "3.7.6"
  }
 },
 "nbformat": 4,
 "nbformat_minor": 4
}
